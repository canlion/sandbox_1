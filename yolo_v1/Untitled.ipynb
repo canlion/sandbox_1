{
 "cells": [
  {
   "cell_type": "code",
   "execution_count": 9,
   "metadata": {},
   "outputs": [],
   "source": [
    "!export PYTHONPATH=PYTONPATH:/opt/project/sandbox_1"
   ]
  },
  {
   "cell_type": "code",
   "execution_count": 10,
   "metadata": {},
   "outputs": [],
   "source": [
    "import tensorflow as tf\n",
    "from model import YoloV1\n",
    "from config import dict2namedtuple\n",
    "from yolo_config import CFG\n",
    "import numpy as np\n",
    "\n",
    "from data_load.data_loader import DataLoader\n",
    "from data import YoloData"
   ]
  },
  {
   "cell_type": "code",
   "execution_count": 11,
   "metadata": {},
   "outputs": [],
   "source": [
    "def draw_predicted_bbox(preds, imgs):\n",
    "    for img, pred in zip(imgs, preds):\n",
    "        img = np.array(img, dtype=np.int32)\n",
    "        pred = np.array(pred, dtype=np.float32)\n",
    "\n",
    "        h, w = img.shape[:2]\n",
    "        S = pred.shape[0]\n",
    "\n",
    "        for y in range(S):\n",
    "            for x in range(S):\n",
    "                data = pred[y, x]\n",
    "                if data[4] > data[9]:\n",
    "                    cx, cy, bw, bh = data[:4]\n",
    "                    C = data[4]\n",
    "                    color = (255, 0, 0)\n",
    "                else:\n",
    "                    cx, cy, bw, bh = data[5:9]\n",
    "                    C = data[9]\n",
    "                    color = (0, 255, 0)\n",
    "\n",
    "                bw, bh = bw**2, bh**2\n",
    "                cx = int((cx+x)/S * w)\n",
    "                cy = int((cy+y)/S * h)\n",
    "                bw = int(bw*w)\n",
    "                bh = int(bh*h)\n",
    "\n",
    "                if C > .5:\n",
    "                    img = cv2.rectangle(img,\n",
    "                                        (cx-bw//2, cy-bh//2), (cx+bw//2, cy+bh//2),\n",
    "                                        color, int(5*C))\n",
    "\n",
    "        plt.imshow(img)\n",
    "        plt.show()"
   ]
  },
  {
   "cell_type": "code",
   "execution_count": 12,
   "metadata": {},
   "outputs": [],
   "source": [
    "def yolo_nms(pred):\n",
    "    # pred : (S, S, 30)\n",
    "    pred_cls = pred[..., -20:].reshape(-1, 20)  # (S*S, 20)\n",
    "    pred_bndbox = pred[..., :-20].reshape(-1, 5)  # (S*S*2, 5)\n",
    "    confs = pred_cls[..., np.newaxis, :] * pred_bndbox.reshape(-1, 2, 5)[..., -1, np.newaxis]  # (S*S, 2, 20)\n",
    "    confs = conf.reshape(-1, 20)  # (S*S*2, 20)\n",
    "    \n",
    "    for cls_no, cls_confs in confs.T:  # confs.T : (20, S*S*2) / cls_confs : (S*S*2)\n",
    "        sorted_confs_idx = np.argsort(cls_confs)[::-1]\n",
    "        for i in range(len(sorted_confs_idx)-1):\n",
    "            max_conf_idx = sorted_confs_idx[i]\n",
    "            if not cls_confs[max_conf_idx]:\n",
    "                continue\n",
    "            for j in range(i+1, len(sorted_confs_idx)):\n",
    "                conf = cls_confs[j]\n",
    "                if not conf:\n",
    "                    continue\n",
    "                if iou(pred_bndbox[max_conf_idx], pred_bndbox[sorted_confs_idx[j]]) >= .5:\n",
    "                    confs[sorted_confs_idx[j], cls_no] = 0.\n",
    "    \n",
    "    return np.concatenate([pred_bndbox, confs])"
   ]
  },
  {
   "cell_type": "code",
   "execution_count": 4,
   "metadata": {},
   "outputs": [],
   "source": [
    "params = dict2namedtuple(CFG)"
   ]
  },
  {
   "cell_type": "code",
   "execution_count": 5,
   "metadata": {},
   "outputs": [],
   "source": [
    "model = YoloV1(params)"
   ]
  },
  {
   "cell_type": "code",
   "execution_count": 6,
   "metadata": {},
   "outputs": [
    {
     "data": {
      "text/plain": [
       "<tensorflow.python.training.tracking.util.CheckpointLoadStatus at 0x7f5bb0504470>"
      ]
     },
     "execution_count": 6,
     "metadata": {},
     "output_type": "execute_result"
    }
   ],
   "source": [
    "model.load_weights('model_save/yolo_v1_184000')"
   ]
  },
  {
   "cell_type": "code",
   "execution_count": 7,
   "metadata": {},
   "outputs": [],
   "source": [
    "import cv2\n",
    "import matplotlib.pyplot as plt"
   ]
  },
  {
   "cell_type": "code",
   "execution_count": 10,
   "metadata": {},
   "outputs": [],
   "source": [
    "data_loader = DataLoader(params)\n",
    "yolo_data = YoloData(params)\n",
    "# train_ds = data_loader.set_ds(yolo_data.map_fn_train, training=True)\n",
    "eval_ds = data_loader.set_ds(yolo_data.map_fn_eval, training=False)"
   ]
  },
  {
   "cell_type": "code",
   "execution_count": null,
   "metadata": {},
   "outputs": [],
   "source": [
    "for i, (x, y) in enumerate(eval_ds):\n",
    "    if i >= 3:\n",
    "        break\n",
    "    preds = model(x)\n",
    "    draw_predicted_bbox(preds, x)"
   ]
  }
 ],
 "metadata": {
  "kernelspec": {
   "display_name": "Python 3",
   "language": "python",
   "name": "python3"
  },
  "language_info": {
   "codemirror_mode": {
    "name": "ipython",
    "version": 3
   },
   "file_extension": ".py",
   "mimetype": "text/x-python",
   "name": "python",
   "nbconvert_exporter": "python",
   "pygments_lexer": "ipython3",
   "version": "3.6.9"
  }
 },
 "nbformat": 4,
 "nbformat_minor": 4
}
