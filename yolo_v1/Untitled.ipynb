{
 "cells": [
  {
   "cell_type": "code",
   "execution_count": 3,
   "metadata": {},
   "outputs": [],
   "source": [
    "import tensorflow as tf\n",
    "import numpy as np"
   ]
  },
  {
   "cell_type": "code",
   "execution_count": 14,
   "metadata": {},
   "outputs": [],
   "source": [
    "def IOU(bndbox_0, bndbox_1, S, B):\n",
    "    #  bndbox : n, S, S, 1, 5 / n, S, S, B, 5\n",
    "    bndbox_0 = tf.tile(bndbox_0, (1, 1, 1, B, 1))\n",
    "    bndbox = tf.stack([bndbox_0, bndbox_1], axis=-1)  # n, S, S, B, 5, 2\n",
    "    print(bndbox)\n",
    "    left_top = tf.reduce_max(bndbox[..., :2, :] / S - tf.square(bndbox[..., 2:4, :]) / 2, axis=-1)  # n, S, S, B, 2\n",
    "    right_bot = tf.reduce_min(bndbox[..., :2, :] / S + tf.square(bndbox[..., 2:4, :]) / 2, axis=-1)\n",
    "    small_wh = tf.reduce_min(tf.square(bndbox[..., 2:4, :]), axis=-1)\n",
    "    intersection_wh = tf.clip_by_value(right_bot - left_top, 0., small_wh)  # n, S, S, B, 2\n",
    "    intersection = tf.reduce_prod(intersection_wh, axis=-1)  # n, S, S, B\n",
    "    union = tf.reduce_sum(tf.reduce_prod(tf.square(bndbox[..., 2:4, :]), axis=-2), axis=-1) - intersection\n",
    "    return intersection / (union + 1e-4)"
   ]
  },
  {
   "cell_type": "code",
   "execution_count": 37,
   "metadata": {},
   "outputs": [
    {
     "name": "stdout",
     "output_type": "stream",
     "text": [
      "[[[[[587.          86.5          8.1240384    5.91607978   0.        ]\n",
      "    [577.          76.5          8.1240384    5.91607978   0.        ]]]]]\n"
     ]
    }
   ],
   "source": [
    "b_1 = np.array([511, 41, 577, 76])\n",
    "b_2 = np.array([[554, 69, 620, 104], [544, 59, 610, 94]])\n",
    "\n",
    "b_1 = np.array([(b_1[2]+b_1[0])/2, (b_1[3]+b_1[1])/2, np.sqrt(b_1[2]-b_1[0]), np.sqrt(b_1[3]-b_1[1]), 0]).reshape(1, 1, 1, 1, 5)\n",
    "b_2 = np.array([(b_2[:, 2]+b_2[:, 0])/2, (b_2[:, 3]+b_2[:, 1])/2, np.sqrt(b_2[:, 2]-b_2[:, 0]), np.sqrt(b_2[:, 3]-b_2[:, 1]), [0, 0]]).reshape(1, 1, 1, 5, 2).transpose(0, 1, 2, 4, 3)\n",
    "print(b_2)"
   ]
  },
  {
   "cell_type": "code",
   "execution_count": 38,
   "metadata": {},
   "outputs": [
    {
     "name": "stdout",
     "output_type": "stream",
     "text": [
      "tf.Tensor(\n",
      "[[[[[[544.         587.        ]\n",
      "     [ 58.5         86.5       ]\n",
      "     [  8.1240384    8.1240384 ]\n",
      "     [  5.91607978   5.91607978]\n",
      "     [  0.           0.        ]]\n",
      "\n",
      "    [[544.         577.        ]\n",
      "     [ 58.5         76.5       ]\n",
      "     [  8.1240384    8.1240384 ]\n",
      "     [  5.91607978   5.91607978]\n",
      "     [  0.           0.        ]]]]]], shape=(1, 1, 1, 2, 5, 2), dtype=float64)\n"
     ]
    }
   ],
   "source": [
    "iou = IOU(b_1, b_2, 1, 2)"
   ]
  },
  {
   "cell_type": "code",
   "execution_count": 39,
   "metadata": {},
   "outputs": [
    {
     "data": {
      "text/plain": [
       "<tf.Tensor: shape=(1, 1, 1, 2), dtype=float32, numpy=array([[[[0., 1.]]]], dtype=float32)>"
      ]
     },
     "execution_count": 39,
     "metadata": {},
     "output_type": "execute_result"
    }
   ],
   "source": [
    "tf.one_hot(tf.argmax(iou, axis=-1), depth=2, axis=-1)"
   ]
  },
  {
   "cell_type": "code",
   "execution_count": 1,
   "metadata": {},
   "outputs": [],
   "source": [
    "!export PYTHON_PATH=$PYTHON_PATH:/opt/project/sandbox_1/"
   ]
  },
  {
   "cell_type": "code",
   "execution_count": 2,
   "metadata": {},
   "outputs": [],
   "source": [
    "from yolo_config import CFG\n",
    "from model import YoloV1\n",
    "from loss import YoloV1Loss\n",
    "from data import YoloData\n",
    "\n",
    "from config import dict2namedtuple\n",
    "from data_load.data_loader import DataLoader\n",
    "from optimizer import get_optimizer\n",
    "from learning_rate import get_learning_rate\n",
    "\n",
    "import time"
   ]
  },
  {
   "cell_type": "code",
   "execution_count": 3,
   "metadata": {},
   "outputs": [],
   "source": [
    "params = dict2namedtuple(CFG)"
   ]
  },
  {
   "cell_type": "code",
   "execution_count": 4,
   "metadata": {},
   "outputs": [],
   "source": [
    "data_loader = DataLoader(params)\n",
    "yolo_data = YoloData(params)"
   ]
  },
  {
   "cell_type": "code",
   "execution_count": 5,
   "metadata": {},
   "outputs": [],
   "source": [
    "ds_0 = data_loader.set_ds(training=True)"
   ]
  },
  {
   "cell_type": "code",
   "execution_count": 6,
   "metadata": {},
   "outputs": [],
   "source": [
    "gen = yolo_data.train_batch_generator(ds_0, 16, 8)"
   ]
  },
  {
   "cell_type": "code",
   "execution_count": 7,
   "metadata": {},
   "outputs": [
    {
     "name": "stdout",
     "output_type": "stream",
     "text": [
      "(16, 448, 448, 3) (16, 7, 7, 30)\n",
      "(16, 448, 448, 3) (16, 7, 7, 30)\n",
      "(16, 448, 448, 3) (16, 7, 7, 30)\n",
      "(16, 448, 448, 3) (16, 7, 7, 30)\n",
      "(16, 448, 448, 3) (16, 7, 7, 30)\n",
      "(16, 448, 448, 3) (16, 7, 7, 30)\n",
      "(16, 448, 448, 3) (16, 7, 7, 30)\n",
      "(16, 448, 448, 3) (16, 7, 7, 30)\n",
      "(16, 448, 448, 3) (16, 7, 7, 30)\n",
      "(16, 448, 448, 3) (16, 7, 7, 30)\n",
      "(16, 448, 448, 3) (16, 7, 7, 30)\n",
      "(16, 448, 448, 3) (16, 7, 7, 30)\n",
      "(16, 448, 448, 3) (16, 7, 7, 30)\n",
      "(16, 448, 448, 3) (16, 7, 7, 30)\n",
      "(16, 448, 448, 3) (16, 7, 7, 30)\n",
      "(16, 448, 448, 3) (16, 7, 7, 30)\n",
      "(16, 448, 448, 3) (16, 7, 7, 30)\n",
      "(16, 448, 448, 3) (16, 7, 7, 30)\n",
      "(16, 448, 448, 3) (16, 7, 7, 30)\n",
      "(16, 448, 448, 3) (16, 7, 7, 30)\n",
      "(16, 448, 448, 3) (16, 7, 7, 30)\n",
      "18.585267066955566\n"
     ]
    }
   ],
   "source": [
    "t_1 = time.time()\n",
    "for i, (x, y) in enumerate(gen):\n",
    "    if i >20:\n",
    "        break\n",
    "    print(x.shape, y.shape)\n",
    "print(time.time()-t_1)"
   ]
  },
  {
   "cell_type": "code",
   "execution_count": 8,
   "metadata": {},
   "outputs": [],
   "source": [
    "ds_1 = data_loader.set_ds(yolo_data.map_fn_train, training=True)"
   ]
  },
  {
   "cell_type": "code",
   "execution_count": 9,
   "metadata": {},
   "outputs": [
    {
     "name": "stdout",
     "output_type": "stream",
     "text": [
      "(8, 448, 448, 3) (8, 7, 7, 30)\n",
      "(8, 448, 448, 3) (8, 7, 7, 30)\n",
      "(8, 448, 448, 3) (8, 7, 7, 30)\n",
      "(8, 448, 448, 3) (8, 7, 7, 30)\n",
      "(8, 448, 448, 3) (8, 7, 7, 30)\n",
      "(8, 448, 448, 3) (8, 7, 7, 30)\n",
      "(8, 448, 448, 3) (8, 7, 7, 30)\n",
      "(8, 448, 448, 3) (8, 7, 7, 30)\n",
      "(8, 448, 448, 3) (8, 7, 7, 30)\n",
      "(8, 448, 448, 3) (8, 7, 7, 30)\n",
      "(8, 448, 448, 3) (8, 7, 7, 30)\n",
      "(8, 448, 448, 3) (8, 7, 7, 30)\n",
      "(8, 448, 448, 3) (8, 7, 7, 30)\n",
      "(8, 448, 448, 3) (8, 7, 7, 30)\n",
      "(8, 448, 448, 3) (8, 7, 7, 30)\n",
      "(8, 448, 448, 3) (8, 7, 7, 30)\n",
      "(8, 448, 448, 3) (8, 7, 7, 30)\n",
      "(8, 448, 448, 3) (8, 7, 7, 30)\n",
      "(8, 448, 448, 3) (8, 7, 7, 30)\n",
      "(8, 448, 448, 3) (8, 7, 7, 30)\n",
      "(8, 448, 448, 3) (8, 7, 7, 30)\n",
      "5.976024866104126\n"
     ]
    }
   ],
   "source": [
    "t_1 = time.time()\n",
    "for i, (x, y) in enumerate(ds_1):\n",
    "    if i > 20:\n",
    "        break\n",
    "    print(x.shape, y.shape)\n",
    "print(time.time()-t_1)"
   ]
  }
 ],
 "metadata": {
  "kernelspec": {
   "display_name": "Python 3",
   "language": "python",
   "name": "python3"
  },
  "language_info": {
   "codemirror_mode": {
    "name": "ipython",
    "version": 3
   },
   "file_extension": ".py",
   "mimetype": "text/x-python",
   "name": "python",
   "nbconvert_exporter": "python",
   "pygments_lexer": "ipython3",
   "version": "3.6.9"
  }
 },
 "nbformat": 4,
 "nbformat_minor": 4
}
